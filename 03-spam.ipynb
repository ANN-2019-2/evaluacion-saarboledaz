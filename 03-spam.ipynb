{
 "cells": [
  {
   "cell_type": "markdown",
   "metadata": {
    "colab": {},
    "colab_type": "code",
    "id": "n3lnWjvI83ix"
   },
   "source": [
    "# Filtado de mensajes spam"
   ]
  },
  {
   "cell_type": "markdown",
   "metadata": {},
   "source": [
    "## Descripción del problema real"
   ]
  },
  {
   "cell_type": "markdown",
   "metadata": {},
   "source": [
    "La recepción de publicidad no deseada a traves mensajes de texto usando SMS (Short Message Service) es un problema que afecta a muchos usuarios de teléfonos móviles. El problema radica en que los usuarios deben pagar por los mesajes recibidos, y por este motivo resulta muy importante que las compañías prestadoras del servicio puedan filtrar mensajes indeseados antes de enviarlos a su destinatario final. Los mensajes tienen una longitud máxima de 160 caracteres, por lo que el texto resulta poco para realizar la clasificación, en comparación con textos más largos (como los emails). Adicionalmente, los errores de digitación dificultan el proceso de detección automática."
   ]
  },
  {
   "cell_type": "markdown",
   "metadata": {},
   "source": [
    "## Descripción del problema en términos de los datos"
   ]
  },
  {
   "cell_type": "markdown",
   "metadata": {},
   "source": [
    "Se tiene una muestra contiene 5574 mensajes en inglés, no codificados y clasificados como legítimos (ham) o spam (http://www.dt.fee.unicamp.br/~tiago/smsspamcollection/). La información está almacenada en el archivo `datos/spam-sms.zip`.El problema en términos de los datos consiste en clasificar si un mensaje SMS es legítico o spam, a partir del análisis de las palabras que contiente, partiendo del supuesto de que ciertas palabras que son más frecuentes dependiendo del tipo de mensaje. Esto implica que en la fase de preparación de los datos se deben extraer las palabras que contiene cada mensaje para poder realizar el análsis."
   ]
  },
  {
   "cell_type": "markdown",
   "metadata": {},
   "source": [
    "## Aproximaciones posibles"
   ]
  },
  {
   "cell_type": "markdown",
   "metadata": {},
   "source": [
    "En este caso, se desea comparar los resultados de un modelo de redes neuronales artificiales y otras técnicas estadísticas para realizar la clasificación."
   ]
  },
  {
   "cell_type": "markdown",
   "metadata": {},
   "source": [
    "## Requerimientos"
   ]
  },
  {
   "cell_type": "markdown",
   "metadata": {},
   "source": [
    "Usted debe:\n",
    "\n",
    "* Preprocesar los datos para representarlos usando bag-of-words.\n",
    "\n",
    "\n",
    "* Construir un modelo de regresión logística como punto base para la comparación con otros modelos más complejos.\n",
    "\n",
    "\n",
    "* Construir un modelo de redes neuronales artificiales. Asimismo, debe determinar el número de neuronas en la capa o capas ocultas.\n",
    "\n",
    "\n",
    "* Utiizar una técnica como crossvalidation u otra similar para establecer la robustez del modelo.\n",
    "\n",
    "\n",
    "* Presentar métricas de desempeño para establecer las bondades y falencias de cada clasificador."
   ]
  },
  {
   "cell_type": "markdown",
   "metadata": {},
   "source": [
    "## Librerías de uso"
   ]
  },
  {
   "cell_type": "code",
   "execution_count": 1,
   "metadata": {},
   "outputs": [],
   "source": [
    "import pandas as pd\n",
    "import numpy as np\n",
    "import matplotlib.pyplot as plt\n",
    "import math\n",
    "import sklearn\n",
    "from random import seed\n",
    "from sklearn.linear_model import LogisticRegression\n",
    "from sklearn.metrics import f1_score, make_scorer, accuracy_score, confusion_matrix\n",
    "from sklearn.model_selection import cross_val_score,cross_validate,ShuffleSplit,train_test_split\n",
    "from sklearn.neural_network import MLPClassifier\n",
    "from nltk.stem.porter import PorterStemmer\n",
    "from sklearn.feature_extraction.text import CountVectorizer\n",
    "%matplotlib inline\n",
    "seed(2) #Mantener el mismo set de aleatorios"
   ]
  },
  {
   "cell_type": "markdown",
   "metadata": {},
   "source": [
    "## Procesamiento"
   ]
  },
  {
   "cell_type": "markdown",
   "metadata": {},
   "source": [
    "### Lectura de los Datos"
   ]
  },
  {
   "cell_type": "code",
   "execution_count": 2,
   "metadata": {},
   "outputs": [],
   "source": [
    "df = pd.read_csv('./datos/SMSSpamCollection.txt',sep=\"\\t\", header=None,encoding='latin-1')\n",
    "df.columns=[\"Tipo\", \"Mensaje\"]"
   ]
  },
  {
   "cell_type": "code",
   "execution_count": 3,
   "metadata": {},
   "outputs": [
    {
     "data": {
      "text/html": [
       "<div>\n",
       "<style scoped>\n",
       "    .dataframe tbody tr th:only-of-type {\n",
       "        vertical-align: middle;\n",
       "    }\n",
       "\n",
       "    .dataframe tbody tr th {\n",
       "        vertical-align: top;\n",
       "    }\n",
       "\n",
       "    .dataframe thead th {\n",
       "        text-align: right;\n",
       "    }\n",
       "</style>\n",
       "<table border=\"1\" class=\"dataframe\">\n",
       "  <thead>\n",
       "    <tr style=\"text-align: right;\">\n",
       "      <th></th>\n",
       "      <th>Tipo</th>\n",
       "      <th>Mensaje</th>\n",
       "    </tr>\n",
       "  </thead>\n",
       "  <tbody>\n",
       "    <tr>\n",
       "      <th>0</th>\n",
       "      <td>ham</td>\n",
       "      <td>Go until jurong point, crazy.. Available only ...</td>\n",
       "    </tr>\n",
       "    <tr>\n",
       "      <th>1</th>\n",
       "      <td>ham</td>\n",
       "      <td>Ok lar... Joking wif u oni...</td>\n",
       "    </tr>\n",
       "    <tr>\n",
       "      <th>2</th>\n",
       "      <td>spam</td>\n",
       "      <td>Free entry in 2 a wkly comp to win FA Cup fina...</td>\n",
       "    </tr>\n",
       "    <tr>\n",
       "      <th>3</th>\n",
       "      <td>ham</td>\n",
       "      <td>U dun say so early hor... U c already then say...</td>\n",
       "    </tr>\n",
       "    <tr>\n",
       "      <th>4</th>\n",
       "      <td>ham</td>\n",
       "      <td>Nah I don't think he goes to usf, he lives aro...</td>\n",
       "    </tr>\n",
       "  </tbody>\n",
       "</table>\n",
       "</div>"
      ],
      "text/plain": [
       "   Tipo                                            Mensaje\n",
       "0   ham  Go until jurong point, crazy.. Available only ...\n",
       "1   ham                      Ok lar... Joking wif u oni...\n",
       "2  spam  Free entry in 2 a wkly comp to win FA Cup fina...\n",
       "3   ham  U dun say so early hor... U c already then say...\n",
       "4   ham  Nah I don't think he goes to usf, he lives aro..."
      ]
     },
     "execution_count": 3,
     "metadata": {},
     "output_type": "execute_result"
    }
   ],
   "source": [
    "df.head()"
   ]
  },
  {
   "cell_type": "markdown",
   "metadata": {},
   "source": [
    "### Distribución de los Datos"
   ]
  },
  {
   "cell_type": "code",
   "execution_count": 4,
   "metadata": {},
   "outputs": [
    {
     "data": {
      "image/png": "[encoded data removed]",
      "text/plain": [
       "<Figure size 432x288 with 1 Axes>"
      ]
     },
     "metadata": {
      "needs_background": "light"
     },
     "output_type": "display_data"
    }
   ],
   "source": [
    "df.Tipo.value_counts().plot.bar();"
   ]
  },
  {
   "cell_type": "markdown",
   "metadata": {},
   "source": [
    "Es necesario hacer un stemming de los datos, esto es una especie de traducción de cada palabra a su versión más atómica,\n",
    "eliminando verbos y cerrando el conjunto de datos a uno más compacto, para después poder realizar el Bag of Words"
   ]
  },
  {
   "cell_type": "code",
   "execution_count": 5,
   "metadata": {},
   "outputs": [
    {
     "data": {
      "text/html": [
       "<div>\n",
       "<style scoped>\n",
       "    .dataframe tbody tr th:only-of-type {\n",
       "        vertical-align: middle;\n",
       "    }\n",
       "\n",
       "    .dataframe tbody tr th {\n",
       "        vertical-align: top;\n",
       "    }\n",
       "\n",
       "    .dataframe thead th {\n",
       "        text-align: right;\n",
       "    }\n",
       "</style>\n",
       "<table border=\"1\" class=\"dataframe\">\n",
       "  <thead>\n",
       "    <tr style=\"text-align: right;\">\n",
       "      <th></th>\n",
       "      <th>Tipo</th>\n",
       "      <th>Mensaje</th>\n",
       "      <th>stemmed</th>\n",
       "    </tr>\n",
       "  </thead>\n",
       "  <tbody>\n",
       "    <tr>\n",
       "      <th>0</th>\n",
       "      <td>ham</td>\n",
       "      <td>Go until jurong point, crazy.. Available only ...</td>\n",
       "      <td>Go until jurong point, crazy.. avail onli in b...</td>\n",
       "    </tr>\n",
       "    <tr>\n",
       "      <th>1</th>\n",
       "      <td>ham</td>\n",
       "      <td>Ok lar... Joking wif u oni...</td>\n",
       "      <td>Ok lar... joke wif u oni...</td>\n",
       "    </tr>\n",
       "    <tr>\n",
       "      <th>2</th>\n",
       "      <td>spam</td>\n",
       "      <td>Free entry in 2 a wkly comp to win FA Cup fina...</td>\n",
       "      <td>free entri in 2 a wkli comp to win FA cup fina...</td>\n",
       "    </tr>\n",
       "    <tr>\n",
       "      <th>3</th>\n",
       "      <td>ham</td>\n",
       "      <td>U dun say so early hor... U c already then say...</td>\n",
       "      <td>U dun say so earli hor... U c alreadi then say...</td>\n",
       "    </tr>\n",
       "    <tr>\n",
       "      <th>4</th>\n",
       "      <td>ham</td>\n",
       "      <td>Nah I don't think he goes to usf, he lives aro...</td>\n",
       "      <td>nah I don't think he goe to usf, he live aroun...</td>\n",
       "    </tr>\n",
       "    <tr>\n",
       "      <th>5</th>\n",
       "      <td>spam</td>\n",
       "      <td>FreeMsg Hey there darling it's been 3 week's n...</td>\n",
       "      <td>freemsg hey there darl it' been 3 week' now an...</td>\n",
       "    </tr>\n",
       "    <tr>\n",
       "      <th>6</th>\n",
       "      <td>ham</td>\n",
       "      <td>Even my brother is not like to speak with me. ...</td>\n",
       "      <td>even my brother is not like to speak with me. ...</td>\n",
       "    </tr>\n",
       "    <tr>\n",
       "      <th>7</th>\n",
       "      <td>ham</td>\n",
       "      <td>As per your request 'Melle Melle (Oru Minnamin...</td>\n",
       "      <td>As per your request 'mell mell (oru minnaminun...</td>\n",
       "    </tr>\n",
       "    <tr>\n",
       "      <th>8</th>\n",
       "      <td>spam</td>\n",
       "      <td>WINNER!! As a valued network customer you have...</td>\n",
       "      <td>winner!! As a valu network custom you have bee...</td>\n",
       "    </tr>\n",
       "    <tr>\n",
       "      <th>9</th>\n",
       "      <td>spam</td>\n",
       "      <td>Had your mobile 11 months or more? U R entitle...</td>\n",
       "      <td>had your mobil 11 month or more? U R entitl to...</td>\n",
       "    </tr>\n",
       "  </tbody>\n",
       "</table>\n",
       "</div>"
      ],
      "text/plain": [
       "   Tipo                                            Mensaje  \\\n",
       "0   ham  Go until jurong point, crazy.. Available only ...   \n",
       "1   ham                      Ok lar... Joking wif u oni...   \n",
       "2  spam  Free entry in 2 a wkly comp to win FA Cup fina...   \n",
       "3   ham  U dun say so early hor... U c already then say...   \n",
       "4   ham  Nah I don't think he goes to usf, he lives aro...   \n",
       "5  spam  FreeMsg Hey there darling it's been 3 week's n...   \n",
       "6   ham  Even my brother is not like to speak with me. ...   \n",
       "7   ham  As per your request 'Melle Melle (Oru Minnamin...   \n",
       "8  spam  WINNER!! As a valued network customer you have...   \n",
       "9  spam  Had your mobile 11 months or more? U R entitle...   \n",
       "\n",
       "                                             stemmed  \n",
       "0  Go until jurong point, crazy.. avail onli in b...  \n",
       "1                        Ok lar... joke wif u oni...  \n",
       "2  free entri in 2 a wkli comp to win FA cup fina...  \n",
       "3  U dun say so earli hor... U c alreadi then say...  \n",
       "4  nah I don't think he goe to usf, he live aroun...  \n",
       "5  freemsg hey there darl it' been 3 week' now an...  \n",
       "6  even my brother is not like to speak with me. ...  \n",
       "7  As per your request 'mell mell (oru minnaminun...  \n",
       "8  winner!! As a valu network custom you have bee...  \n",
       "9  had your mobil 11 month or more? U R entitl to...  "
      ]
     },
     "execution_count": 5,
     "metadata": {},
     "output_type": "execute_result"
    }
   ],
   "source": [
    "stemmer = PorterStemmer()\n",
    "\n",
    "df['stemmed'] = df.Mensaje.apply(lambda x: ' '.join([stemmer.stem(w) for w in x.split() ]))\n",
    "\n",
    "df.head(10)"
   ]
  },
  {
   "cell_type": "markdown",
   "metadata": {},
   "source": [
    "### Bag of Words\n",
    "\n",
    "Se realiza el bag of words contando las ocurrencias de cada palabra en la frase"
   ]
  },
  {
   "cell_type": "code",
   "execution_count": 6,
   "metadata": {},
   "outputs": [
    {
     "data": {
      "text/plain": [
       "(5572, 1543)"
      ]
     },
     "execution_count": 6,
     "metadata": {},
     "output_type": "execute_result"
    }
   ],
   "source": [
    "count_vect = CountVectorizer(\n",
    "    analyzer='word',        # a nivel de palabra\n",
    "    lowercase=True,         # convierte a minúsculas\n",
    "    stop_words='english',   # stop_words en inglés\n",
    "    binary=True,            # Los valores distintos de cero son fijados en 1\n",
    "    min_df=5                # ignora palabras con baja freq\n",
    ")\n",
    "\n",
    "\n",
    "##\n",
    "## Aplica la función al texto\n",
    "##\n",
    "dtm = count_vect.fit_transform(df.stemmed)\n",
    "\n",
    "##\n",
    "## Las filas contienen los mensajes\n",
    "## y las clomunas los términos\n",
    "##\n",
    "dtm.shape"
   ]
  },
  {
   "cell_type": "code",
   "execution_count": 7,
   "metadata": {},
   "outputs": [
    {
     "data": {
      "text/plain": [
       "1543"
      ]
     },
     "execution_count": 7,
     "metadata": {},
     "output_type": "execute_result"
    }
   ],
   "source": [
    "##\n",
    "## Palabras aprendidas de los mensajes de texto\n",
    "##\n",
    "vocabulary = count_vect.get_feature_names()\n",
    "len(vocabulary)"
   ]
  },
  {
   "cell_type": "code",
   "execution_count": 8,
   "metadata": {},
   "outputs": [
    {
     "name": "stdout",
     "output_type": "stream",
     "text": [
      "Org:  Go until jurong point, crazy.. Available only in bugis n great world la e buffet... Cine there got amore wat...\n",
      "Mod:  avail bugi cine got great la onli point wat world\n",
      "\n",
      "Org:  Ok lar... Joking wif u oni...\n",
      "Mod:  joke lar ok wif\n",
      "\n",
      "Org:  Free entry in 2 a wkly comp to win FA Cup final tkts 21st May 2005. Text FA to 87121 to receive entry question(std txt rate)T&C's apply 08452810075over18's\n",
      "Mod:  appli comp cup entri final free question rate receiv std text txt win wkli\n",
      "\n",
      "Org:  U dun say so early hor... U c already then say...\n",
      "Mod:  alreadi dun earli say\n",
      "\n",
      "Org:  Nah I don't think he goes to usf, he lives around here though\n",
      "Mod:  don goe live nah think usf\n",
      "\n",
      "Org:  FreeMsg Hey there darling it's been 3 week's now and no word back! I'd like some fun you up for it still? Tb ok! XxX std chgs to send, Â£1.50 to rcv\n",
      "Mod:  50 darl freemsg fun hey like ok send std week word xxx\n",
      "\n",
      "Org:  Even my brother is not like to speak with me. They treat me like aids patent.\n",
      "Mod:  brother like speak treat\n",
      "\n",
      "Org:  As per your request 'Melle Melle (Oru Minnaminunginte Nurungu Vettam)' has been set as your callertune for all Callers. Press *9 to copy your friends Callertune\n",
      "Mod:  callers callertun copi friend ha press request set\n",
      "\n",
      "Org:  WINNER!! As a valued network customer you have been selected to receivea Â£900 prize reward! To claim call 09061701461. Claim code KL341. Valid 12 hours only.\n",
      "Mod:  12 900 claim code custom hour network prize reward select valid valu winner\n",
      "\n",
      "Org:  Had your mobile 11 months or more? U R entitled to Update to the latest colour mobiles with camera for Free! Call The Mobile Update Co FREE on 08002986030\n",
      "Mod:  11 camera colour entitl free latest mobil month updat\n",
      "\n",
      "Org:  I'm gonna be home soon and i don't want to talk about this stuff anymore tonight, k? I've cried enough today.\n",
      "Mod:  don gonna home soon stuff talk thi today tonight want\n",
      "\n"
     ]
    }
   ],
   "source": [
    "##\n",
    "## Recupera los mensajes de la dtm\n",
    "##\n",
    "def dtm2words(dtm, vocabulary, index):\n",
    "    as_list = dtm[index,:].toarray().tolist()\n",
    "    docs = []\n",
    "    for i in index:\n",
    "        k = [vocabulary[iword] for iword, ifreq in enumerate(as_list[i]) if ifreq > 0]\n",
    "        docs += [k]\n",
    "    return docs\n",
    "\n",
    "for i, x in enumerate(dtm2words(dtm, vocabulary, [0, 1, 2, 3, 4, 5, 6, 7, 8, 9, 10])):\n",
    "    print('Org: ', df.Mensaje[i])\n",
    "    print('Mod: ', ' '.join(x))\n",
    "    print('')"
   ]
  },
  {
   "cell_type": "markdown",
   "metadata": {},
   "source": [
    "## Regresión Logística\n",
    "\n",
    "Se dividen los datos en conjuntos de testing y entrenamiento, posteriormente se realiza una regresión logística"
   ]
  },
  {
   "cell_type": "code",
   "execution_count": 9,
   "metadata": {},
   "outputs": [],
   "source": [
    "X_train, X_test, y_train_true, y_test_true = train_test_split(dtm, df.Tipo, test_size=0.30, random_state=123)"
   ]
  },
  {
   "cell_type": "code",
   "execution_count": 10,
   "metadata": {},
   "outputs": [],
   "source": [
    "clf = LogisticRegression(random_state=123, solver='lbfgs').fit(X_train, y_train_true)\n",
    "forecast_y = clf.predict(X_test)"
   ]
  },
  {
   "cell_type": "markdown",
   "metadata": {},
   "source": [
    "### Desempeño de la Regresión Logística\n",
    "\n",
    "El objetivo de la clasificación es identificar el Spam para evitar que un envío de estos mensajes sea cobrado al usuario, para evaluar esta eficiencia se realiza una matriz de confusión, y se debe tener en cuenta que en especial se quieren reducir\n",
    "los falsos positivos, es decir que no se marquen como Ham, los mensajes que deben ser Spam. Para evaluar el desempeño de la regresión logística se usarán la matriz de confusión, f1_score y la precisión (accuracy)"
   ]
  },
  {
   "cell_type": "code",
   "execution_count": 11,
   "metadata": {},
   "outputs": [
    {
     "name": "stdout",
     "output_type": "stream",
     "text": [
      "El porcentaje de Falsos Positivos es: 1.61%\n",
      "El valor de F1 es: 0.9893360853113176\n",
      "El porcentaje de precisión es del: 98.14593301435407%\n"
     ]
    },
    {
     "data": {
      "image/png": "[encoded data removed]",
      "text/plain": [
       "<Figure size 432x288 with 1 Axes>"
      ]
     },
     "metadata": {
      "needs_background": "light"
     },
     "output_type": "display_data"
    }
   ],
   "source": [
    "testresults_df = pd.DataFrame({\"forecast_type\":forecast_y,\"real_type\":y_test_true}, columns=[\"forecast_type\",\"real_type\"])\n",
    "cm = confusion_matrix(y_test_true,forecast_y)\n",
    "f1 = f1_score(y_test_true,forecast_y,pos_label=\"ham\") #Valor verdadero es ham\n",
    "acc = accuracy_score(y_test_true,forecast_y)*100\n",
    "plt.title(\"Resultados de la Matriz de Confusión\")\n",
    "plt.bar(x=[\"V Positivos\",\"V Negativos\",\"F Negativos\",\"F Positivos\"], height=[cm[0][0],cm[0][1],cm[1][1],cm[1][0]])\n",
    "false_p = round(100*cm[1][0]/len(y_test_true),2)\n",
    "print(\"El porcentaje de Falsos Positivos es: {}%\".format(false_p))\n",
    "print(\"El valor de F1 es: {}\".format(f1))\n",
    "print(\"El porcentaje de precisión es del: {}%\".format(acc))"
   ]
  },
  {
   "cell_type": "markdown",
   "metadata": {},
   "source": [
    "También se grafican la distribución de los pronósticos y los valores reales"
   ]
  },
  {
   "cell_type": "code",
   "execution_count": 12,
   "metadata": {},
   "outputs": [
    {
     "data": {
      "image/png": "[encoded data removed]",
      "text/plain": [
       "<Figure size 1440x360 with 2 Axes>"
      ]
     },
     "metadata": {
      "needs_background": "light"
     },
     "output_type": "display_data"
    }
   ],
   "source": [
    "plt.figure(figsize=(20,5)) \n",
    "plt.subplot(1,2,1)\n",
    "plt.title(\"Pronóstico\")\n",
    "testresults_df.forecast_type.value_counts().plot.bar();\n",
    "plt.subplot(1,2,2)\n",
    "plt.title(\"Real\")\n",
    "testresults_df.real_type.value_counts().plot.bar();"
   ]
  },
  {
   "cell_type": "markdown",
   "metadata": {},
   "source": [
    "### Resultados de la Regresión Logística\n",
    "\n",
    "El desempeño de la regresión logística se considera bueno ya que se comporta bien respecto a las medidas de desempeño elegidas, presentando en todas valores buenos, cabe aclarar que en la métrica f1 entre más cercano se encuentre a 1, mejor."
   ]
  },
  {
   "cell_type": "markdown",
   "metadata": {},
   "source": [
    "## Modelo con Redes Neuronales\n",
    "\n",
    "Inicialmente se desarrolla un modelo con redes neuronales base (5,5), para evaluar su desempeño inicial."
   ]
  },
  {
   "cell_type": "code",
   "execution_count": 13,
   "metadata": {},
   "outputs": [],
   "source": [
    "model = MLPClassifier(\n",
    "            hidden_layer_sizes=(5,5),\n",
    "            activation='logistic',\n",
    "            solver='sgd',\n",
    "            learning_rate='adaptive',\n",
    "            learning_rate_init=0.05,\n",
    "            random_state=123,\n",
    "            max_iter=1000\n",
    "        )\n",
    "\n",
    "model.fit(X_train,y_train_true)\n",
    "forecast_y = model.predict(X_test)"
   ]
  },
  {
   "cell_type": "code",
   "execution_count": 14,
   "metadata": {},
   "outputs": [
    {
     "name": "stdout",
     "output_type": "stream",
     "text": [
      "El porcentaje de Falsos Positivos es: 1.14%\n",
      "El valor de F1 es: 0.990324809951624\n",
      "El porcentaje de precisión es del: 98.32535885167464%\n"
     ]
    },
    {
     "data": {
      "image/png": "[encoded data removed]",
      "text/plain": [
       "<Figure size 432x288 with 1 Axes>"
      ]
     },
     "metadata": {
      "needs_background": "light"
     },
     "output_type": "display_data"
    }
   ],
   "source": [
    "cm = confusion_matrix(y_test_true,forecast_y)\n",
    "f1 = f1_score(y_test_true,forecast_y,pos_label=\"ham\") #d\n",
    "acc = accuracy_score(y_test_true,forecast_y)*100\n",
    "plt.title(\"Resultados de la Matriz de Confusión\")\n",
    "plt.bar(x=[\"V Positivos\",\"V Negativos\",\"F Negativos\",\"F Positivos\"], height=[cm[0][0],cm[0][1],cm[1][1],cm[1][0]])\n",
    "false_p = round(100*cm[1][0]/len(y_test_true),2)\n",
    "print(\"El porcentaje de Falsos Positivos es: {}%\".format(false_p))\n",
    "print(\"El valor de F1 es: {}\".format(f1))\n",
    "print(\"El porcentaje de precisión es del: {}%\".format(acc))"
   ]
  },
  {
   "cell_type": "markdown",
   "metadata": {},
   "source": [
    "### Selección del Modelo\n",
    "\n",
    "Según el modelo inicial, podemos observar que los resultados brindados por el modelo de redes neuronales son bastante parecidos a la regresión logística.\n",
    "\n",
    "Para la selección del modelo se realizará crossvalidation con las métricas de desempeño usadas anteriormente, variando la cantidad de neuronas de 1 a 6"
   ]
  },
  {
   "cell_type": "code",
   "execution_count": null,
   "metadata": {},
   "outputs": [],
   "source": [
    "max_layer_size = 7\n",
    "cv_split = ShuffleSplit(test_size=0.30, random_state=123) # Configuracion crossvalidation \n",
    "benchmark_df = pd.DataFrame(columns=[\"N_l1\", \"N_l2\", \"F1\", \"Precisión\"])\n",
    "for neurons_l1 in range(1,max_layer_size):\n",
    "    for neurons_l2 in range(2,max_layer_size):\n",
    "        model = MLPClassifier(\n",
    "            hidden_layer_sizes=(neurons_l1,neurons_l2),\n",
    "            activation='logistic',\n",
    "            solver='sgd',\n",
    "            learning_rate='adaptive',\n",
    "            learning_rate_init=0.05,\n",
    "            random_state=123,\n",
    "            max_iter=1000\n",
    "        )\n",
    "        \n",
    "        f1 = make_scorer(f1_score,pos_label='ham')\n",
    "        acc = make_scorer(accuracy_score)\n",
    "        score = cross_validate(model, dtm, df.Tipo, cv=cv_split, scoring={\"f1\":f1,\"acc\":acc})\n",
    "        entry = {\"N_l1\":neurons_l1,\"N_l2\":neurons_l2,\"F1\":score['test_f1'].mean(),\"Precisión\":score['test_acc'].mean()}\n",
    "        benchmark_df = benchmark_df.append(entry, ignore_index=True)\n",
    "        \n",
    "benchmark_df.head()        "
   ]
  },
  {
   "cell_type": "code",
   "execution_count": null,
   "metadata": {},
   "outputs": [],
   "source": [
    "best_f1 = benchmark_df[benchmark_df.F1 == benchmark_df.F1.max()]\n",
    "best_acc = benchmark_df[benchmark_df['Precisión'] == benchmark_df['Precisión'].max()]\n",
    "best_f1.head()"
   ]
  },
  {
   "cell_type": "markdown",
   "metadata": {},
   "source": [
    "### Modelo Seleccionado\n",
    "Basándose en las métricas de desempeño, se seleccionó el modelo con 6 y 3 neuronas en la capa de entrada y oculta respectivamente. Notar que el valor de F1 no mejoró bastante respecto a los modelos anteriores"
   ]
  },
  {
   "cell_type": "code",
   "execution_count": null,
   "metadata": {},
   "outputs": [],
   "source": [
    "##Graficar el crecimiento y decrecimiento del error\n",
    "plt.figure(figsize=(20,30)) \n",
    "x_vals = list(range(2, max_layer_size))\n",
    "for i in range(max_layer_size-1):\n",
    "    plt.subplot(max_layer_size,1,i+1)   \n",
    "    plt.xlabel('Neuronas en la Capa Oculta')\n",
    "    plt.ylabel('Valor')\n",
    "    plt.title('#Neuronas: '+str(i+1))\n",
    "    aux_df = benchmark_df[benchmark_df.N_l1 == i+1]\n",
    "    plt.plot(x_vals,aux_df['F1'], label='F1', color='blue')\n",
    "    plt.plot(x_vals,aux_df['Precisión'], label=\"Precisión\", color='red')\n",
    "    plt.tight_layout(h_pad=3.0)\n",
    "    \n",
    "    plt.legend()\n",
    "\n",
    "    "
   ]
  },
  {
   "cell_type": "markdown",
   "metadata": {},
   "source": [
    "## Modelo de Clasificación por Redes Neuronales\n"
   ]
  },
  {
   "cell_type": "code",
   "execution_count": null,
   "metadata": {},
   "outputs": [],
   "source": [
    "n1 = best_f1['N_l1'].values[0]\n",
    "n2 = best_f1['N_l2'].values[0]\n",
    "X_train, X_test, y_train_true, y_test_true = train_test_split(dtm, df.Tipo, test_size=0.30, random_state=123)\n",
    "\n",
    "model = MLPClassifier(\n",
    "            hidden_layer_sizes=(int(n1),int(n2)),\n",
    "            activation='logistic',\n",
    "            solver='sgd',\n",
    "            learning_rate='adaptive',\n",
    "            learning_rate_init=0.05,\n",
    "            random_state=123,\n",
    "            max_iter=1000\n",
    "        )\n",
    "\n",
    "model.fit(X_train,y_train_true)\n",
    "forecast_y = model.predict(X_test)\n",
    "\n",
    "testresults_df = pd.DataFrame({\"forecast_type\":forecast_y,\"real_type\":y_test_true}, columns=[\"forecast_type\",\"real_type\"])\n",
    "cm = confusion_matrix(y_test_true,forecast_y)\n",
    "f1 = f1_score(y_test_true,forecast_y,pos_label=\"ham\") #Valor verdadero es ham\n",
    "acc = accuracy_score(y_test_true,forecast_y)*100\n",
    "plt.title(\"Resultados de la Matriz de Confusión\")\n",
    "plt.bar(x=[\"V Positivos\",\"V Negativos\",\"F Negativos\",\"F Positivos\"], height=[cm[0][0],cm[0][1],cm[1][1],cm[1][0]])\n",
    "false_p = round(100*ecm[1][0]/len(y_test_true),2)\n",
    "print(\"El porcentaje de Falsos Positivos es: {}%\".format(false_p))\n",
    "print(\"El valor de F1 es: {}\".format(f1))\n",
    "print(\"El porcentaje de precisión es del: {}%\".format(acc))\n"
   ]
  },
  {
   "cell_type": "markdown",
   "metadata": {},
   "source": [
    "## Conclusión\n",
    "\n",
    "Todos los modelos encontrados tienen resultados bastante similares en las medidas de desempeño, y en general todos brindan muy buenos resultados, todos manteniendo un porcentaje de falsos positivos menor al 2% y un valor de f1 bastante cercano a 1, todos mayor a 0.9"
   ]
  }
 ],
 "metadata": {
  "colab": {
   "include_colab_link": true,
   "name": "Copia de Untitled3.ipynb",
   "provenance": [],
   "version": "0.3.2"
  },
  "kernelspec": {
   "display_name": "Python 3",
   "language": "python",
   "name": "python3"
  },
  "language_info": {
   "codemirror_mode": {
    "name": "ipython",
    "version": 3
   },
   "file_extension": ".py",
   "mimetype": "text/x-python",
   "name": "python",
   "nbconvert_exporter": "python",
   "pygments_lexer": "ipython3",
   "version": "3.7.0"
  }
 },
 "nbformat": 4,
 "nbformat_minor": 2
}
