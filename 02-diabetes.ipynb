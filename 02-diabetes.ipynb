{
 "cells": [
  {
   "cell_type": "markdown",
   "metadata": {
    "colab": {},
    "colab_type": "code",
    "id": "n3lnWjvI83ix"
   },
   "source": [
    "# Pronóstico de la evolución de pacientes con diabetes"
   ]
  },
  {
   "cell_type": "markdown",
   "metadata": {},
   "source": [
    "## Descripción del problema real"
   ]
  },
  {
   "cell_type": "markdown",
   "metadata": {},
   "source": [
    "Los tratamientos médicos están basados en las expectativas de recuperación o el avance de una enfermedad para tomar decisiones. En este caso, un equipo médico desea contar con pronósticos de pacientes con diabetes para tomar decisiones sobre su tratamiento."
   ]
  },
  {
   "cell_type": "markdown",
   "metadata": {},
   "source": [
    "## Descripción del problema en términos de los datos"
   ]
  },
  {
   "cell_type": "markdown",
   "metadata": {},
   "source": [
    "Se desea determinar el progreso de la diabeteis un año hacia adelante a partir de las variables medidas para 442 pacientes. La información está almacenada en el archivo `datos/diabetes.csv`. Las variables medidas son: edad, sexo, indice de masa corporal, presión sanguinea y seis medidas de serum en la sangre. Se desea pronósticar el progreso de la enfermedad a partir de las variables dadas."
   ]
  },
  {
   "cell_type": "markdown",
   "metadata": {},
   "source": [
    "## Aproximaciones posibles"
   ]
  },
  {
   "cell_type": "markdown",
   "metadata": {},
   "source": [
    "En este caso, se desea comparar los resultados de un modelo de regresión lineal y un modelo de redes neuronales artificiales."
   ]
  },
  {
   "cell_type": "markdown",
   "metadata": {},
   "source": [
    "## Requerimientos"
   ]
  },
  {
   "cell_type": "markdown",
   "metadata": {},
   "source": [
    "Usted debe:\n",
    "\n",
    "* Determinar cuáles de las variables consideradas son relevantes para el problema.\n",
    "\n",
    "\n",
    "* Determinar si hay alguna transformación de las variables de entrada o de salida que mejore el pronóstico del modelo.\n",
    "\n",
    "\n",
    "* Construir un modelo de regresión lineal que sirva como base para construir un modelo de redes neuronales artificiales.\n",
    "\n",
    "\n",
    "\n",
    "* Construir un modelo de redes neuronales artificiales. Asimismo, debe determinar el número de neuronas en la capa o capas ocultas.\n",
    "\n",
    "\n",
    "* Utiizar una técnica como crossvalidation u otra similar para establecer la robustez del modelo."
   ]
  },
  {
   "cell_type": "markdown",
   "metadata": {},
   "source": [
    "MADNESS\n",
    "\n",
    "Realizar un modelo lineal\n",
    "Modelo lineal + transformación variable dependiente(y)\n",
    "Modelo lineal + transformación de una o más variables independientes\n",
    "\n",
    "Procedimiento:\n",
    "- Se realiz un modelo base con la media, luego aplico mejoras al error con cada variable independiente, pero solo con una a la vez, y luego escojo la combinación transformación + variable que por si sola reduzca más el error.\n",
    "\n",
    "- Se va añadiendo cada variable con su mejor transformación, siendo esta añadida a las mejoras hechas anteriormente.\n",
    "\n",
    "- Para determinar el número de neuronas en la capa o capas ocultas, se debe probar con varios valores y el punto mínimo es el óptimo.\n",
    "\n",
    "Para realizar crossvalidation:\n",
    "\n",
    "- Partir los datos en diferentes conjuntos, realizar una tabla en la que se muestren que conjuntos se usaron para entrenamiento y cuáles para prueba, y así obtener el promedio de los errores."
   ]
  }
 ],
 "metadata": {
  "colab": {
   "include_colab_link": true,
   "name": "Copia de Untitled3.ipynb",
   "provenance": [],
   "version": "0.3.2"
  },
  "kernelspec": {
   "display_name": "Python 3",
   "language": "python",
   "name": "python3"
  },
  "language_info": {
   "codemirror_mode": {
    "name": "ipython",
    "version": 3
   },
   "file_extension": ".py",
   "mimetype": "text/x-python",
   "name": "python",
   "nbconvert_exporter": "python",
   "pygments_lexer": "ipython3",
   "version": "3.7.0"
  }
 },
 "nbformat": 4,
 "nbformat_minor": 2
}
