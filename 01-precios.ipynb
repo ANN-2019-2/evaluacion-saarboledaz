{
 "cells": [
  {
   "cell_type": "markdown",
   "metadata": {
    "colab": {},
    "colab_type": "code",
    "id": "n3lnWjvI83ix"
   },
   "source": [
    "# Pronóstico adaptativo"
   ]
  },
  {
   "cell_type": "markdown",
   "metadata": {},
   "source": [
    "## Descripción del problema real"
   ]
  },
  {
   "cell_type": "markdown",
   "metadata": {},
   "source": [
    "Los pronósticos de los precios de la electricidad en mercados liberalizados son un insumo fundamental para la toma de decisiones dentro de las organizaciones. Fundamentalmente, los pronosticos de corto plazo son utilizados en decisiones de carácter operativo. En el caso abordado, es necesario contar con los pronósticos para definir la politica de operación de una empresa del sector eléctrico."
   ]
  },
  {
   "cell_type": "markdown",
   "metadata": {},
   "source": [
    "## Descripción del problema en términos de los datos"
   ]
  },
  {
   "cell_type": "markdown",
   "metadata": {},
   "source": [
    "La carpeta `datos/precios/` contiene los precios historicos horarios de la electricidad en la Bolsa de Energía del mercado eléctrico colombiano, publicados por el operador del mercado. Se desean obtener pronósticos para el precio promedio diario para los próximos siete (7) días a la fecha actual."
   ]
  },
  {
   "cell_type": "markdown",
   "metadata": {},
   "source": [
    "## Aproximaciones posibles"
   ]
  },
  {
   "cell_type": "markdown",
   "metadata": {},
   "source": [
    "En este caso, se desea evaluar la capacidad de pronóstico de un ADALINE con aprendizaje en línea."
   ]
  },
  {
   "cell_type": "markdown",
   "metadata": {},
   "source": [
    "## Requerimientos"
   ]
  },
  {
   "cell_type": "markdown",
   "metadata": {},
   "source": [
    "Usted debe:\n",
    "\n",
    "* Procesar los datos históricos para conformar el conjunto de datos. Los archivos de Excel no pueden ser modificados y actualizados directamente por el operador del sistema. Su código debe leer los archivos y crear la serie de precios promedio diarios de la electricidad.\n",
    "\n",
    "\n",
    "* Determinar si el modelo debe pronosticar los precios promedios sin ninguna transformación, o si la inclusión de una transformación (logaritmo natural, raíz cúbica, raíz cuadrada, etc) resulta en un incremento de la precisión del pronóstico.\n",
    "\n",
    "\n",
    "* Generar el pronóstico para los precios de los próximos siete días.\n",
    "\n",
    "\n",
    "* Preparar el código para que el modelo sea entrenado usando el gradiente y el momentum.\n",
    "\n",
    "\n",
    "* Determinar cuál es el número óptimo de retardos (observaciones) que el modelo debe considerar hacia atrás para producir el pronóstico.\n",
    "\n",
    "\n",
    "* Determinar los valores óptimos de la tasa de aprendizaje y el momentum.\n"
   ]
  },
  {
   "cell_type": "markdown",
   "metadata": {},
   "source": [
    "Resumen del profe: \n",
    "realizar una gráfica de los precios y observar el comportamiento.\n",
    "El fenómeno del niño aumenta los precios, y los periodos con abundancia bajan los precios.\n",
    "El precio pico es cuando ocurre un racionamiento de electricidad.\n",
    "\n",
    "Existen dos tipos de sistemas, físicos (no se ven afectados y son estables), económicos (se ven afectados por la actividad humano).\n",
    "\n",
    "La información pasada de los sistemas económicos no es tan confiable ya que las circunstancias cambian.\n",
    "\n",
    "pt = C0 + C1pt_1 (la afirmación no es válida)\n",
    "¿Cómo incorporar la obsolescencia de la información pasada? se debe usar un modelo adaptativo\n",
    "¿Usar ADALINE? Modelo adaptativo\n",
    "\n",
    "Hay que identificar qué problemas se pueden presentar.\n",
    "-Crecimiento del precio por la inflación casi lineal. (Llevar los precios a moneda constante, ajustando por inflación)\n",
    "Usar el IPC, banco de la república, en conjunto con una regla de tres\n",
    "Pt = Po x IPCt/IPCo\n",
    "-Poner todos los pesos respecto al primer IPC\n",
    "-Tener en cuenta que el IPC cambia mensualmente.\n",
    "\n",
    "\n",
    "\n"
   ]
  },
  {
   "cell_type": "markdown",
   "metadata": {},
   "source": [
    "Aplicar la transformación con logartimo natural (exponencial para devolverse) para corregir la serie y que sea más estable.\n",
    "Otras transformacione son x^2, raíz cuadrada, cúbica.\n",
    "Se debe usar la función que de un mejor pronóstico, para elegir la transformación se debe hacer lo siguiente:\n",
    "- Datos, Transformación, Modelo, Pronóstico, Transformación Inversa, Evaluación del Error.\n"
   ]
  },
  {
   "cell_type": "markdown",
   "metadata": {},
   "source": [
    "Para pronósticar los días, se pronóstica el primer día y en base a este el siguiente y así sucesivamente. Se debe tener en cuenta que el límite del pronóstico es limitado, ya que este terminaría convergiendo.\n"
   ]
  },
  {
   "cell_type": "markdown",
   "metadata": {},
   "source": [
    "Pasos:\n",
    "- Preprocesar datos para obtener el precio promedio diario.\n",
    "- Eliminar la inflación con el IPC.\n",
    "- Datos, Transformación, Modelo, Pronóstico, Transformación Inversa, Evaluación del Error.\n",
    "\n"
   ]
  },
  {
   "cell_type": "markdown",
   "metadata": {},
   "source": [
    "Cuántos retardos o rezagos debo usar?\n",
    "Realizar una tabla con las columnas, Orden del modelo, Error ajuste, Error pronóstico 7 días.\n",
    "¿Cuál debe ser la tasa de aprendizaje?\n",
    "¿Cuál debe ser el momentum?"
   ]
  }
 ],
 "metadata": {
  "colab": {
   "include_colab_link": true,
   "name": "Copia de Untitled3.ipynb",
   "provenance": [],
   "version": "0.3.2"
  },
  "kernelspec": {
   "display_name": "Python 3",
   "language": "python",
   "name": "python3"
  },
  "language_info": {
   "codemirror_mode": {
    "name": "ipython",
    "version": 3
   },
   "file_extension": ".py",
   "mimetype": "text/x-python",
   "name": "python",
   "nbconvert_exporter": "python",
   "pygments_lexer": "ipython3",
   "version": "3.7.0"
  }
 },
 "nbformat": 4,
 "nbformat_minor": 2
}
